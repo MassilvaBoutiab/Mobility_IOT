{
 "cells": [
  {
   "cell_type": "code",
   "execution_count": 29,
   "id": "5b1fac5c",
   "metadata": {},
   "outputs": [
    {
     "name": "stdout",
     "output_type": "stream",
     "text": [
      "For the best solution, we need: \n",
      "\n",
      "2 coins of 5.\n",
      "1 coins of 2.\n",
      "1 coins of 0.2.\n",
      "1 coins of 0.1.\n",
      "1 coins of 0.05.\n",
      "\n",
      "Execution time  0.9375000 mili seconds.\n"
     ]
    }
   ],
   "source": [
    "from time import perf_counter\n",
    "\n",
    "coins = (5, 2, 1, 0.5, 0.2, 0.1, 0.05)\n",
    "money_to_return = 12.35\n",
    "s_fifo=[]\n",
    "def make_change(coins, money_to_return):\n",
    "    #print(\"the best solution of the make change problem.\")\n",
    "    print(\"For the best solution, we need: \\n\")\n",
    "    #Loop through every coins.\n",
    "    for coin in coins: \n",
    "        number_of_coins=int(money_to_return/coin) #Compute the number of a specif\n",
    "        money_to_return= money_to_return % coin #Update the amout of money to return\n",
    "        money_to_return= round(money_to_return, 2)\n",
    "     #Print the number of a specific coin required. \n",
    "        if number_of_coins != 0:\n",
    "            print(f'{number_of_coins} coins of {coin}.')\n",
    "     #Perform the algorithm and display the computation time. \n",
    "\n",
    "initial_timestamp=perf_counter()\n",
    "make_change(coins, money_to_return)\n",
    "final_timestamp=perf_counter()\n",
    "elapsed_time=final_timestamp - initial_timestamp \n",
    "elapsed_time_ms=elapsed_time*(1000)\n",
    "print(f'\\nExecution time { elapsed_time_ms: 0.7f} mili seconds.')"
   ]
  },
  {
   "cell_type": "code",
   "execution_count": 31,
   "id": "b0bd032d",
   "metadata": {},
   "outputs": [],
   "source": [
    "if money_to_return == 0 :\n",
    "    print(s_fifo)\n",
    "else :\n",
    "    "
   ]
  },
  {
   "cell_type": "code",
   "execution_count": null,
   "id": "e790df9a",
   "metadata": {},
   "outputs": [],
   "source": []
  }
 ],
 "metadata": {
  "kernelspec": {
   "display_name": "Python 3 (ipykernel)",
   "language": "python",
   "name": "python3"
  },
  "language_info": {
   "codemirror_mode": {
    "name": "ipython",
    "version": 3
   },
   "file_extension": ".py",
   "mimetype": "text/x-python",
   "name": "python",
   "nbconvert_exporter": "python",
   "pygments_lexer": "ipython3",
   "version": "3.9.7"
  }
 },
 "nbformat": 4,
 "nbformat_minor": 5
}
