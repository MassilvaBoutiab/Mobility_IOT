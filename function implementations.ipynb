{
 "cells": [
  {
   "cell_type": "markdown",
   "id": "f16d7ac9",
   "metadata": {},
   "source": [
    "first of all i need to defin the graph of mobility that was asked :\n",
    "i used only my possible itenarary  from home to class C02\n",
    "\n",
    "0 Crous\n",
    "\n",
    "1 IUT bus station\n",
    "\n",
    "2 Train station of Belfort\n",
    "\n",
    "3 Train station of montbeliard\n",
    "\n",
    "4 Campus bus station\n",
    "\n",
    "5 C02 building C class\n",
    "\n"
   ]
  },
  {
   "cell_type": "code",
   "execution_count": 1,
   "id": "92ceb653",
   "metadata": {},
   "outputs": [],
   "source": [
    "def get_key(val):\n",
    "    for key, value in place.items():\n",
    "        if val == value:\n",
    "            return key\n",
    "    return \"None\""
   ]
  },
  {
   "cell_type": "code",
   "execution_count": 2,
   "id": "218d9f29",
   "metadata": {},
   "outputs": [],
   "source": [
    "def check_complete(mat):\n",
    "    for i in range(len(mat)):\n",
    "        for j in range(len(mat)):\n",
    "            if i!=j and mat[i][j]==0 :\n",
    "                print(\"False\")\n",
    "                return False\n",
    "    print(\"True\")\n",
    "\n",
    "    return True"
   ]
  },
  {
   "cell_type": "code",
   "execution_count": null,
   "id": "79e76248",
   "metadata": {},
   "outputs": [],
   "source": [
    "def "
   ]
  },
  {
   "cell_type": "code",
   "execution_count": null,
   "id": "247a3a2d",
   "metadata": {},
   "outputs": [],
   "source": [
    "def djikstra(i,k,j,mat, place):\n",
    "    "
   ]
  },
  {
   "cell_type": "code",
   "execution_count": 109,
   "id": "d0c863ab",
   "metadata": {},
   "outputs": [],
   "source": [
    "def Make_transitive(mat, place):\n",
    "    if check_complete(mat):\n",
    "        return mat\n",
    "    else :\n",
    "        save=[]\n",
    "        for i in range(len(mat)):\n",
    "            for j in range(len(mat)):\n",
    "                if mat[i][j]!=0 and i != j:\n",
    "                    for k in range(len(mat)):\n",
    "                        if mat[j][k]!=0 and j != k and i != k:\n",
    "                            station= get_key(j)\n",
    "                            #way=djikstra(i,k,j,mat, place)\n",
    "                            dist= mat[i][j][1]+mat[j][k][1]\n",
    "                            string=mat[i][j][0]+\" -> \"+station+\" , \"+mat[j][k][0]\n",
    "                            save.append([i,k,(string,dist)])\n",
    "        for j in range(len(save)):\n",
    "            i=save[j][0]\n",
    "            k=save[j][1]\n",
    "            if(mat[i][k]==0):\n",
    "                mat[i][k]=(save[j][2])\n",
    "                mat[i][k]=(save[j][2])\n",
    "        return Make_transitive(mat, place)\n",
    "    "
   ]
  },
  {
   "cell_type": "code",
   "execution_count": 110,
   "id": "a7e36ad3",
   "metadata": {},
   "outputs": [],
   "source": [
    "data = [['CROUS Duvillard','IUT', ('walk', 5)],['IUT','Gare de Belfort', ('BUS 3', 10)],\n",
    "        ['Gare de Belfort','Gare de Montbeliard', ('TER', 15)],\n",
    "        ['Gare de Montbeliard','Campus', ('BUS T1', 15)],\n",
    "        ['Campus','UFR STGI Building C', ('Walk', 3)],\n",
    "        ['UFR STGI Building C','C01', ('Walk', 1)],\n",
    "        ['C01','C02', ('Walk', 1)],['Gare de Belfort','Gare de Montbeliard', ('Bus X', 20)],\n",
    "        ['CROUS Duvillard','Parking UFR', ('car', 20)], ['Parking UFR','Campus', ('walk', 2)], ['Parking UFR','IUT', ('car', 17)]]"
   ]
  },
  {
   "cell_type": "code",
   "execution_count": 111,
   "id": "08475c10",
   "metadata": {},
   "outputs": [
    {
     "data": {
      "text/plain": [
       "[['CROUS Duvillard', 'IUT', ('walk', 5)],\n",
       " ['IUT', 'Gare de Belfort', ('BUS 3', 10)],\n",
       " ['Gare de Belfort', 'Gare de Montbeliard', ('TER', 15)],\n",
       " ['Gare de Montbeliard', 'Campus', ('BUS T1', 15)],\n",
       " ['Campus', 'UFR STGI Building C', ('Walk', 3)],\n",
       " ['UFR STGI Building C', 'C01', ('Walk', 1)],\n",
       " ['C01', 'C02', ('Walk', 1)],\n",
       " ['Gare de Belfort', 'Gare de Montbeliard', ('Bus X', 20)],\n",
       " ['CROUS Duvillard', 'Parking UFR', ('car', 20)],\n",
       " ['Parking UFR', 'Campus', ('walk', 2)],\n",
       " ['Parking UFR', 'IUT', ('car', 17)]]"
      ]
     },
     "execution_count": 111,
     "metadata": {},
     "output_type": "execute_result"
    }
   ],
   "source": [
    "data"
   ]
  },
  {
   "cell_type": "code",
   "execution_count": 112,
   "id": "17341d5d",
   "metadata": {},
   "outputs": [],
   "source": [
    "place = {'CROUS Duvillard':0,\n",
    "         'IUT': 1, \n",
    "         'Gare de Belfort':2 , \n",
    "         'Gare de Montbeliard':3 , \n",
    "         'Campus':4 ,\n",
    "         'UFR STGI Building C':5,\n",
    "         'C01':6,\n",
    "         'C02':7,\n",
    "         'Parking UFR':8\n",
    "        }"
   ]
  },
  {
   "cell_type": "code",
   "execution_count": 113,
   "id": "4835f8f5",
   "metadata": {},
   "outputs": [
    {
     "name": "stdout",
     "output_type": "stream",
     "text": [
      "[[0, ('walk', 5), 0, 0, 0, 0, 0, 0, ('car', 20)], [('walk', 5), 0, ('BUS 3', 10), 0, 0, 0, 0, 0, ('car', 17)], [0, ('BUS 3', 10), 0, ('TER', 15), 0, 0, 0, 0, 0], [0, 0, ('TER', 15), 0, ('BUS T1', 15), 0, 0, 0, 0], [0, 0, 0, ('BUS T1', 15), 0, ('Walk', 3), 0, 0, ('walk', 2)], [0, 0, 0, 0, ('Walk', 3), 0, ('Walk', 1), 0, 0], [0, 0, 0, 0, 0, ('Walk', 1), 0, ('Walk', 1), 0], [0, 0, 0, 0, 0, 0, ('Walk', 1), 0, 0], [('car', 20), ('car', 17), 0, 0, ('walk', 2), 0, 0, 0, 0]]\n"
     ]
    }
   ],
   "source": [
    "def build_MatrixOD(place, data):\n",
    "    mxod=[]\n",
    "    for i in range(len(place)):\n",
    "        array = [0 for i in range(len(place))] \n",
    "        mxod.append(array)\n",
    "    for i in data:\n",
    "        origin=place[i[0]]\n",
    "        dest=place[i[1]]\n",
    "        if ( mxod[origin][dest] == 0):\n",
    "            mxod[origin][dest]=i[2]\n",
    "            mxod[dest][origin]=i[2]\n",
    "        elif(mxod[origin][dest][1] > i[2][1]):\n",
    "            mxod[origin][dest]=i[2]\n",
    "            mxod[dest][origin]=i[2]\n",
    "    \n",
    "    return mxod\n",
    "matOD=build_MatrixOD(place, data)\n",
    "print(matOD)\n"
   ]
  },
  {
   "cell_type": "code",
   "execution_count": 114,
   "id": "00f0e0d2",
   "metadata": {},
   "outputs": [
    {
     "name": "stdout",
     "output_type": "stream",
     "text": [
      "False\n",
      "False\n",
      "False\n",
      "True\n"
     ]
    },
    {
     "data": {
      "text/plain": [
       "[[0,\n",
       "  ('walk', 5),\n",
       "  ('walk -> IUT , BUS 3', 15),\n",
       "  ('walk -> IUT , BUS 3 -> Gare de Belfort , TER', 30),\n",
       "  ('car -> Parking UFR , walk', 22),\n",
       "  ('car -> Parking UFR , walk -> Campus , Walk', 25),\n",
       "  ('car -> Parking UFR , walk -> Campus , Walk -> UFR STGI Building C , Walk',\n",
       "   26),\n",
       "  ('walk -> IUT , BUS 3 -> Gare de Belfort , TER -> Gare de Montbeliard , BUS T1 -> Campus , Walk -> UFR STGI Building C , Walk -> C01 , Walk',\n",
       "   50),\n",
       "  ('car', 20)],\n",
       " [('walk', 5),\n",
       "  0,\n",
       "  ('BUS 3', 10),\n",
       "  ('BUS 3 -> Gare de Belfort , TER', 25),\n",
       "  ('car -> Parking UFR , walk', 19),\n",
       "  ('BUS 3 -> Gare de Belfort , TER -> Gare de Montbeliard , BUS T1 -> Campus , Walk',\n",
       "   43),\n",
       "  ('car -> Parking UFR , walk -> Campus , Walk -> UFR STGI Building C , Walk',\n",
       "   23),\n",
       "  ('BUS 3 -> Gare de Belfort , TER -> Gare de Montbeliard , BUS T1 -> Campus , Walk -> UFR STGI Building C , Walk -> C01 , Walk',\n",
       "   45),\n",
       "  ('car', 17)],\n",
       " [('BUS 3 -> IUT , walk', 15),\n",
       "  ('BUS 3', 10),\n",
       "  0,\n",
       "  ('TER', 15),\n",
       "  ('TER -> Gare de Montbeliard , BUS T1', 30),\n",
       "  ('TER -> Gare de Montbeliard , BUS T1 -> Campus , Walk', 33),\n",
       "  ('TER -> Gare de Montbeliard , BUS T1 -> Campus , Walk -> UFR STGI Building C , Walk',\n",
       "   34),\n",
       "  ('TER -> Gare de Montbeliard , BUS T1 -> Campus , Walk -> UFR STGI Building C , Walk -> C01 , Walk',\n",
       "   35),\n",
       "  ('BUS 3 -> IUT , car', 27)],\n",
       " [('TER -> Gare de Belfort , BUS 3 -> IUT , walk', 30),\n",
       "  ('TER -> Gare de Belfort , BUS 3', 25),\n",
       "  ('TER', 15),\n",
       "  0,\n",
       "  ('BUS T1', 15),\n",
       "  ('BUS T1 -> Campus , Walk', 18),\n",
       "  ('BUS T1 -> Campus , Walk -> UFR STGI Building C , Walk', 19),\n",
       "  ('BUS T1 -> Campus , Walk -> UFR STGI Building C , Walk -> C01 , Walk', 20),\n",
       "  ('BUS T1 -> Campus , walk', 17)],\n",
       " [('walk -> Parking UFR , car', 22),\n",
       "  ('walk -> Parking UFR , car', 19),\n",
       "  ('BUS T1 -> Gare de Montbeliard , TER', 30),\n",
       "  ('BUS T1', 15),\n",
       "  0,\n",
       "  ('Walk', 3),\n",
       "  ('Walk -> UFR STGI Building C , Walk', 4),\n",
       "  ('Walk -> UFR STGI Building C , Walk -> C01 , Walk', 5),\n",
       "  ('walk', 2)],\n",
       " [('Walk -> Campus , walk -> Parking UFR , car', 25),\n",
       "  ('Walk -> Campus , BUS T1 -> Gare de Montbeliard , TER -> Gare de Belfort , BUS 3',\n",
       "   43),\n",
       "  ('Walk -> Campus , BUS T1 -> Gare de Montbeliard , TER', 33),\n",
       "  ('Walk -> Campus , BUS T1', 18),\n",
       "  ('Walk', 3),\n",
       "  0,\n",
       "  ('Walk', 1),\n",
       "  ('Walk -> C01 , Walk', 2),\n",
       "  ('Walk -> Campus , walk', 5)],\n",
       " [('Walk -> UFR STGI Building C , Walk -> Campus , walk -> Parking UFR , car',\n",
       "   26),\n",
       "  ('Walk -> UFR STGI Building C , Walk -> Campus , walk -> Parking UFR , car',\n",
       "   23),\n",
       "  ('Walk -> UFR STGI Building C , Walk -> Campus , BUS T1 -> Gare de Montbeliard , TER',\n",
       "   34),\n",
       "  ('Walk -> UFR STGI Building C , Walk -> Campus , BUS T1', 19),\n",
       "  ('Walk -> UFR STGI Building C , Walk', 4),\n",
       "  ('Walk', 1),\n",
       "  0,\n",
       "  ('Walk', 1),\n",
       "  ('Walk -> UFR STGI Building C , Walk -> Campus , walk', 6)],\n",
       " [('Walk -> C01 , Walk -> UFR STGI Building C , Walk -> Campus , BUS T1 -> Gare de Montbeliard , TER -> Gare de Belfort , BUS 3 -> IUT , walk',\n",
       "   50),\n",
       "  ('Walk -> C01 , Walk -> UFR STGI Building C , Walk -> Campus , BUS T1 -> Gare de Montbeliard , TER -> Gare de Belfort , BUS 3',\n",
       "   45),\n",
       "  ('Walk -> C01 , Walk -> UFR STGI Building C , Walk -> Campus , BUS T1 -> Gare de Montbeliard , TER',\n",
       "   35),\n",
       "  ('Walk -> C01 , Walk -> UFR STGI Building C , Walk -> Campus , BUS T1', 20),\n",
       "  ('Walk -> C01 , Walk -> UFR STGI Building C , Walk', 5),\n",
       "  ('Walk -> C01 , Walk', 2),\n",
       "  ('Walk', 1),\n",
       "  0,\n",
       "  ('Walk -> C01 , Walk -> UFR STGI Building C , Walk -> Campus , walk', 7)],\n",
       " [('car', 20),\n",
       "  ('car', 17),\n",
       "  ('car -> IUT , BUS 3', 27),\n",
       "  ('walk -> Campus , BUS T1', 17),\n",
       "  ('walk', 2),\n",
       "  ('walk -> Campus , Walk', 5),\n",
       "  ('walk -> Campus , Walk -> UFR STGI Building C , Walk', 6),\n",
       "  ('walk -> Campus , Walk -> UFR STGI Building C , Walk -> C01 , Walk', 7),\n",
       "  0]]"
      ]
     },
     "execution_count": 114,
     "metadata": {},
     "output_type": "execute_result"
    }
   ],
   "source": [
    "me = Make_transitive(matOD, place)\n",
    "me"
   ]
  },
  {
   "cell_type": "code",
   "execution_count": 115,
   "id": "604a7574",
   "metadata": {},
   "outputs": [],
   "source": [
    "people={\n",
    "    'massilva':'Campus',\n",
    "    'mandy':'IUT',\n",
    "    'aftab':'C02',\n",
    "    'oualid': 'UFR STGI Building C'\n",
    "}"
   ]
  },
  {
   "cell_type": "code",
   "execution_count": 124,
   "id": "e336c7f8",
   "metadata": {},
   "outputs": [],
   "source": [
    "def most_frequent(List):\n",
    "    return max(set(List), key = List.count)\n",
    " \n",
    "def find_the_optimal_sol(people, place, mat):\n",
    "    mindist=10000\n",
    "    maxdist=0\n",
    "    for i in people:\n",
    "        resultset = [value for key, value in people.items() if key != i]\n",
    "        dist_to_other=[mat[place[people[i]]][place[resultset[j]]] for j in range(len(resultset))]\n",
    "        for j in range(len(dist_to_other)):\n",
    "            if(dist_to_other[j]!=0):\n",
    "                if(dist_to_other[j][1]>maxdist):\n",
    "                    maxdist=dist_to_other[j][1]\n",
    "                if(dist_to_other[j][1]< mindist):\n",
    "                    mindist=dist_to_other[j][1]\n",
    "    optimal_dist=(int((mindist+maxdist)/2)-5,int((mindist+maxdist)/2)+5)\n",
    "    li=[]\n",
    "    print('the optimal time interval would be',optimal_dist)\n",
    "    for i in people:\n",
    "        temp=mat[place[people[i]]]\n",
    "        find_in_int=[i for i in range(len(temp)) if temp[i]!=0 and temp[i][1] >= optimal_dist[0] and temp[i][1]<= optimal_dist[1] ]\n",
    "        li.extend(find_in_int)\n",
    "    return  get_key(most_frequent(li))"
   ]
  },
  {
   "cell_type": "code",
   "execution_count": 126,
   "id": "3fe99468",
   "metadata": {},
   "outputs": [
    {
     "name": "stdout",
     "output_type": "stream",
     "text": [
      "the optimal time interval would be (18, 28)\n",
      "meeting place is : Gare de Montbeliard\n"
     ]
    }
   ],
   "source": [
    "dist=find_the_optimal_sol(people, place, me)\n",
    "print('meeting place is :',dist)"
   ]
  },
  {
   "cell_type": "code",
   "execution_count": 145,
   "id": "df674520",
   "metadata": {},
   "outputs": [],
   "source": [
    "def itenerary_for_each(people, place, mat, dist):\n",
    "    for i in people:\n",
    "        way= mat[place[people[i]]][place[dist]]\n",
    "        path=i+\"\\nis in \"+ people[i] + \" the best path to \"+dist+\" would be : \\n\"+ way[0] +\" -> \"+ dist +\"\\n ------- Time to arrive estimated to be \"+ str(way[1]) + \" minutes \\n\" \n",
    "        print(path)"
   ]
  },
  {
   "cell_type": "code",
   "execution_count": 146,
   "id": "e6a43275",
   "metadata": {
    "scrolled": false
   },
   "outputs": [
    {
     "name": "stdout",
     "output_type": "stream",
     "text": [
      "massilva\n",
      "is in Campus the best path to Gare de Montbeliard would be : \n",
      "BUS T1 -> Gare de Montbeliard\n",
      " ------- Time to arrive estimated to be 15 minutes \n",
      "\n",
      "mandy\n",
      "is in IUT the best path to Gare de Montbeliard would be : \n",
      "BUS 3 -> Gare de Belfort , TER -> Gare de Montbeliard\n",
      " ------- Time to arrive estimated to be 25 minutes \n",
      "\n",
      "aftab\n",
      "is in C02 the best path to Gare de Montbeliard would be : \n",
      "Walk -> C01 , Walk -> UFR STGI Building C , Walk -> Campus , BUS T1 -> Gare de Montbeliard\n",
      " ------- Time to arrive estimated to be 20 minutes \n",
      "\n",
      "oualid\n",
      "is in UFR STGI Building C the best path to Gare de Montbeliard would be : \n",
      "Walk -> Campus , BUS T1 -> Gare de Montbeliard\n",
      " ------- Time to arrive estimated to be 18 minutes \n",
      "\n"
     ]
    }
   ],
   "source": [
    "itenerary_for_each(people, place, me, dist)"
   ]
  },
  {
   "cell_type": "code",
   "execution_count": null,
   "id": "09c6152b",
   "metadata": {},
   "outputs": [],
   "source": []
  },
  {
   "cell_type": "code",
   "execution_count": null,
   "id": "fea97108",
   "metadata": {},
   "outputs": [],
   "source": []
  }
 ],
 "metadata": {
  "kernelspec": {
   "display_name": "Python 3 (ipykernel)",
   "language": "python",
   "name": "python3"
  },
  "language_info": {
   "codemirror_mode": {
    "name": "ipython",
    "version": 3
   },
   "file_extension": ".py",
   "mimetype": "text/x-python",
   "name": "python",
   "nbconvert_exporter": "python",
   "pygments_lexer": "ipython3",
   "version": "3.9.7"
  }
 },
 "nbformat": 4,
 "nbformat_minor": 5
}
