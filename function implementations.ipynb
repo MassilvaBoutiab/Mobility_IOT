{
 "cells": [
  {
   "cell_type": "markdown",
   "id": "f16d7ac9",
   "metadata": {},
   "source": [
    "first of all i need to defin the graph of mobility that was asked :\n",
    "i used only my possible itenarary  from home to class C02\n",
    "\n",
    "0 Crous\n",
    "\n",
    "1 IUT bus station\n",
    "\n",
    "2 Train station of Belfort\n",
    "\n",
    "3 Train station of montbeliard\n",
    "\n",
    "4 Campus bus station\n",
    "\n",
    "5 C02 building C class\n",
    "\n"
   ]
  },
  {
   "cell_type": "code",
   "execution_count": 1,
   "id": "a7e36ad3",
   "metadata": {},
   "outputs": [],
   "source": [
    "data = [['CROUS Duvillard','IUT', ('walk', 5)],['IUT','Gare de Belfort', ('BUS 3', 10)],\n",
    "        ['Gare de Belfort','Gare de Montbeliard', ('TER', 15)],\n",
    "        ['Gare de Montbeliard','Campus', ('BUS T1', 15)],\n",
    "        ['Campus','UFR STGI Building C', ('Walk', 3)],\n",
    "        ['UFR STGI Building C','C01', ('Walk', 1)],\n",
    "        ['C01','C02', ('Walk', 1)],['Gare de Belfort','Gare de Montbeliard', ('Bus X', 20)],\n",
    "        ['CROUS Duvillard','Parking UFR', ('car', 20)], ['Parking UFR','UFR STGI Building C', ('walk', 4)], \n",
    "        ['Jean-Jaures','Basic-fit', ('walk', 10)],['Basic-fit','Gare de Belfort', ('Bus 2', 17)]]"
   ]
  },
  {
   "cell_type": "code",
   "execution_count": 2,
   "id": "08475c10",
   "metadata": {},
   "outputs": [
    {
     "data": {
      "text/plain": [
       "[['CROUS Duvillard', 'IUT', ('walk', 5)],\n",
       " ['IUT', 'Gare de Belfort', ('BUS 3', 10)],\n",
       " ['Gare de Belfort', 'Gare de Montbeliard', ('TER', 15)],\n",
       " ['Gare de Montbeliard', 'Campus', ('BUS T1', 15)],\n",
       " ['Campus', 'UFR STGI Building C', ('Walk', 3)],\n",
       " ['UFR STGI Building C', 'C01', ('Walk', 1)],\n",
       " ['C01', 'C02', ('Walk', 1)],\n",
       " ['Gare de Belfort', 'Gare de Montbeliard', ('Bus X', 20)],\n",
       " ['CROUS Duvillard', 'Parking UFR', ('car', 20)],\n",
       " ['Parking UFR', 'UFR STGI Building C', ('walk', 4)],\n",
       " ['Jean-Jaures', 'Basic-fit', ('walk', 10)],\n",
       " ['Basic-fit', 'Gare de Belfort', ('Bus 2', 17)]]"
      ]
     },
     "execution_count": 2,
     "metadata": {},
     "output_type": "execute_result"
    }
   ],
   "source": [
    "data"
   ]
  },
  {
   "cell_type": "code",
   "execution_count": 3,
   "id": "17341d5d",
   "metadata": {},
   "outputs": [],
   "source": [
    "place = {'CROUS Duvillard':0,\n",
    "         'IUT': 1, \n",
    "         'Gare de Belfort':2 , \n",
    "         'Gare de Montbeliard':3 , \n",
    "         'Campus':4 ,\n",
    "         'UFR STGI Building C':5,\n",
    "         'C01':6,\n",
    "         'C02':7,\n",
    "         'Parking UFR':8,\n",
    "         'Jean-Jaures':9,\n",
    "         'Basic-fit':10\n",
    "        }"
   ]
  },
  {
   "cell_type": "code",
   "execution_count": 4,
   "id": "4835f8f5",
   "metadata": {},
   "outputs": [
    {
     "name": "stdout",
     "output_type": "stream",
     "text": [
      "[[0, ('walk', 5), 0, 0, 0, 0, 0, 0, ('car', 20), 0, 0], [('walk', 5), 0, ('BUS 3', 10), 0, 0, 0, 0, 0, 0, 0, 0], [0, ('BUS 3', 10), 0, ('TER', 15), 0, 0, 0, 0, 0, 0, ('Bus 2', 17)], [0, 0, ('TER', 15), 0, ('BUS T1', 15), 0, 0, 0, 0, 0, 0], [0, 0, 0, ('BUS T1', 15), 0, ('Walk', 3), 0, 0, 0, 0, 0], [0, 0, 0, 0, ('Walk', 3), 0, ('Walk', 1), 0, ('walk', 4), 0, 0], [0, 0, 0, 0, 0, ('Walk', 1), 0, ('Walk', 1), 0, 0, 0], [0, 0, 0, 0, 0, 0, ('Walk', 1), 0, 0, 0, 0], [('car', 20), 0, 0, 0, 0, ('walk', 4), 0, 0, 0, 0, 0], [0, 0, 0, 0, 0, 0, 0, 0, 0, 0, ('walk', 10)], [0, 0, ('Bus 2', 17), 0, 0, 0, 0, 0, 0, ('walk', 10), 0]]\n"
     ]
    }
   ],
   "source": [
    "def build_MatrixOD(place, data):\n",
    "    mxod=[]\n",
    "    for i in range(len(place)):\n",
    "        array = [0 for i in range(len(place))] \n",
    "        mxod.append(array)\n",
    "    for i in data:\n",
    "        origin=place[i[0]]\n",
    "        dest=place[i[1]]\n",
    "        if ( mxod[origin][dest] == 0):\n",
    "            mxod[origin][dest]=i[2]\n",
    "            mxod[dest][origin]=i[2]\n",
    "        elif(mxod[origin][dest][1] > i[2][1]):\n",
    "            mxod[origin][dest]=i[2]\n",
    "            mxod[dest][origin]=i[2]\n",
    "    \n",
    "    return mxod\n",
    "matOD=build_MatrixOD(place, data)\n",
    "print(matOD)"
   ]
  },
  {
   "cell_type": "code",
   "execution_count": 5,
   "id": "92ceb653",
   "metadata": {},
   "outputs": [],
   "source": [
    "def get_key(val):\n",
    "    for key, value in place.items():\n",
    "        if val == value:\n",
    "            return key\n",
    "    return \"None\""
   ]
  },
  {
   "cell_type": "code",
   "execution_count": 6,
   "id": "218d9f29",
   "metadata": {},
   "outputs": [],
   "source": [
    "def check_complete(mat):\n",
    "    for i in range(len(mat)):\n",
    "        for j in range(len(mat)):\n",
    "            if i!=j and mat[i][j]==0 :\n",
    "                print(\"False\")\n",
    "                return False\n",
    "    print(\"True\")\n",
    "\n",
    "    return True"
   ]
  },
  {
   "cell_type": "code",
   "execution_count": 7,
   "id": "d0c863ab",
   "metadata": {},
   "outputs": [
    {
     "name": "stdout",
     "output_type": "stream",
     "text": [
      "False\n",
      "False\n",
      "False\n",
      "True\n",
      "[[0, ('walk', 5), ('walk -> IUT , BUS 3', 15), ('walk -> IUT , BUS 3 -> Gare de Belfort , TER', 30), ('car -> Parking UFR , walk -> UFR STGI Building C , Walk', 27), ('car -> Parking UFR , walk', 24), ('car -> Parking UFR , walk -> UFR STGI Building C , Walk', 25), ('car -> Parking UFR , walk -> UFR STGI Building C , Walk -> C01 , Walk', 26), ('car', 20), ('walk -> IUT , BUS 3 -> Gare de Belfort , Bus 2 -> Basic-fit , walk', 42), ('walk -> IUT , BUS 3 -> Gare de Belfort , Bus 2', 32)], [('walk', 5), 0, ('BUS 3', 10), ('BUS 3 -> Gare de Belfort , TER', 25), ('walk -> CROUS Duvillard , car -> Parking UFR , walk -> UFR STGI Building C , Walk', 32), ('walk -> CROUS Duvillard , car -> Parking UFR , walk', 29), ('walk -> CROUS Duvillard , car -> Parking UFR , walk -> UFR STGI Building C , Walk', 30), ('walk -> CROUS Duvillard , car -> Parking UFR , walk -> UFR STGI Building C , Walk -> C01 , Walk', 31), ('walk -> CROUS Duvillard , car', 25), ('BUS 3 -> Gare de Belfort , Bus 2 -> Basic-fit , walk', 37), ('BUS 3 -> Gare de Belfort , Bus 2', 27)], [('BUS 3 -> IUT , walk', 15), ('BUS 3', 10), 0, ('TER', 15), ('TER -> Gare de Montbeliard , BUS T1', 30), ('TER -> Gare de Montbeliard , BUS T1 -> Campus , Walk', 33), ('TER -> Gare de Montbeliard , BUS T1 -> Campus , Walk -> UFR STGI Building C , Walk', 34), ('TER -> Gare de Montbeliard , BUS T1 -> Campus , Walk -> UFR STGI Building C , Walk -> C01 , Walk', 35), ('BUS 3 -> IUT , walk -> CROUS Duvillard , car', 35), ('Bus 2 -> Basic-fit , walk', 27), ('Bus 2', 17)], [('TER -> Gare de Belfort , BUS 3 -> IUT , walk', 30), ('TER -> Gare de Belfort , BUS 3', 25), ('TER', 15), 0, ('BUS T1', 15), ('BUS T1 -> Campus , Walk', 18), ('BUS T1 -> Campus , Walk -> UFR STGI Building C , Walk', 19), ('BUS T1 -> Campus , Walk -> UFR STGI Building C , Walk -> C01 , Walk', 20), ('BUS T1 -> Campus , Walk -> UFR STGI Building C , walk', 22), ('TER -> Gare de Belfort , Bus 2 -> Basic-fit , walk', 42), ('TER -> Gare de Belfort , Bus 2', 32)], [('Walk -> UFR STGI Building C , walk -> Parking UFR , car', 27), ('Walk -> UFR STGI Building C , walk -> Parking UFR , car -> CROUS Duvillard , walk', 32), ('BUS T1 -> Gare de Montbeliard , TER', 30), ('BUS T1', 15), 0, ('Walk', 3), ('Walk -> UFR STGI Building C , Walk', 4), ('Walk -> UFR STGI Building C , Walk -> C01 , Walk', 5), ('Walk -> UFR STGI Building C , walk', 7), ('BUS T1 -> Gare de Montbeliard , TER -> Gare de Belfort , Bus 2 -> Basic-fit , walk', 57), ('BUS T1 -> Gare de Montbeliard , TER -> Gare de Belfort , Bus 2', 47)], [('walk -> Parking UFR , car', 24), ('walk -> Parking UFR , car -> CROUS Duvillard , walk', 29), ('Walk -> Campus , BUS T1 -> Gare de Montbeliard , TER', 33), ('Walk -> Campus , BUS T1', 18), ('Walk', 3), 0, ('Walk', 1), ('Walk -> C01 , Walk', 2), ('walk', 4), ('Walk -> Campus , BUS T1 -> Gare de Montbeliard , TER -> Gare de Belfort , Bus 2 -> Basic-fit , walk', 60), ('Walk -> Campus , BUS T1 -> Gare de Montbeliard , TER -> Gare de Belfort , Bus 2', 50)], [('Walk -> UFR STGI Building C , walk -> Parking UFR , car', 25), ('Walk -> UFR STGI Building C , walk -> Parking UFR , car -> CROUS Duvillard , walk', 30), ('Walk -> UFR STGI Building C , Walk -> Campus , BUS T1 -> Gare de Montbeliard , TER', 34), ('Walk -> UFR STGI Building C , Walk -> Campus , BUS T1', 19), ('Walk -> UFR STGI Building C , Walk', 4), ('Walk', 1), 0, ('Walk', 1), ('Walk -> UFR STGI Building C , walk', 5), ('Walk -> UFR STGI Building C , Walk -> Campus , BUS T1 -> Gare de Montbeliard , TER -> Gare de Belfort , Bus 2 -> Basic-fit , walk', 61), ('Walk -> UFR STGI Building C , Walk -> Campus , BUS T1 -> Gare de Montbeliard , TER -> Gare de Belfort , Bus 2', 51)], [('Walk -> C01 , Walk -> UFR STGI Building C , walk -> Parking UFR , car', 26), ('Walk -> C01 , Walk -> UFR STGI Building C , walk -> Parking UFR , car -> CROUS Duvillard , walk', 31), ('Walk -> C01 , Walk -> UFR STGI Building C , Walk -> Campus , BUS T1 -> Gare de Montbeliard , TER', 35), ('Walk -> C01 , Walk -> UFR STGI Building C , Walk -> Campus , BUS T1', 20), ('Walk -> C01 , Walk -> UFR STGI Building C , Walk', 5), ('Walk -> C01 , Walk', 2), ('Walk', 1), 0, ('Walk -> C01 , Walk -> UFR STGI Building C , walk', 6), ('Walk -> C01 , Walk -> UFR STGI Building C , Walk -> Campus , BUS T1 -> Gare de Montbeliard , TER -> Gare de Belfort , Bus 2 -> Basic-fit , walk', 62), ('Walk -> C01 , Walk -> UFR STGI Building C , Walk -> Campus , BUS T1 -> Gare de Montbeliard , TER -> Gare de Belfort , Bus 2', 52)], [('car', 20), ('car -> CROUS Duvillard , walk', 25), ('car -> CROUS Duvillard , walk -> IUT , BUS 3', 35), ('walk -> UFR STGI Building C , Walk -> Campus , BUS T1', 22), ('walk -> UFR STGI Building C , Walk', 7), ('walk', 4), ('walk -> UFR STGI Building C , Walk', 5), ('walk -> UFR STGI Building C , Walk -> C01 , Walk', 6), 0, ('car -> CROUS Duvillard , walk -> IUT , BUS 3 -> Gare de Belfort , Bus 2 -> Basic-fit , walk', 62), ('car -> CROUS Duvillard , walk -> IUT , BUS 3 -> Gare de Belfort , Bus 2', 52)], [('walk -> Basic-fit , Bus 2 -> Gare de Belfort , BUS 3 -> IUT , walk', 42), ('walk -> Basic-fit , Bus 2 -> Gare de Belfort , BUS 3', 37), ('walk -> Basic-fit , Bus 2', 27), ('walk -> Basic-fit , Bus 2 -> Gare de Belfort , TER', 42), ('walk -> Basic-fit , Bus 2 -> Gare de Belfort , TER -> Gare de Montbeliard , BUS T1', 57), ('walk -> Basic-fit , Bus 2 -> Gare de Belfort , TER -> Gare de Montbeliard , BUS T1 -> Campus , Walk', 60), ('walk -> Basic-fit , Bus 2 -> Gare de Belfort , TER -> Gare de Montbeliard , BUS T1 -> Campus , Walk -> UFR STGI Building C , Walk', 61), ('walk -> Basic-fit , Bus 2 -> Gare de Belfort , TER -> Gare de Montbeliard , BUS T1 -> Campus , Walk -> UFR STGI Building C , Walk -> C01 , Walk', 62), ('walk -> Basic-fit , Bus 2 -> Gare de Belfort , BUS 3 -> IUT , walk -> CROUS Duvillard , car', 62), 0, ('walk', 10)], [('Bus 2 -> Gare de Belfort , BUS 3 -> IUT , walk', 32), ('Bus 2 -> Gare de Belfort , BUS 3', 27), ('Bus 2', 17), ('Bus 2 -> Gare de Belfort , TER', 32), ('Bus 2 -> Gare de Belfort , TER -> Gare de Montbeliard , BUS T1', 47), ('Bus 2 -> Gare de Belfort , TER -> Gare de Montbeliard , BUS T1 -> Campus , Walk', 50), ('Bus 2 -> Gare de Belfort , TER -> Gare de Montbeliard , BUS T1 -> Campus , Walk -> UFR STGI Building C , Walk', 51), ('Bus 2 -> Gare de Belfort , TER -> Gare de Montbeliard , BUS T1 -> Campus , Walk -> UFR STGI Building C , Walk -> C01 , Walk', 52), ('Bus 2 -> Gare de Belfort , BUS 3 -> IUT , walk -> CROUS Duvillard , car', 52), ('walk', 10), 0]]\n"
     ]
    }
   ],
   "source": [
    "def Make_transitive(mat, place):\n",
    "    if check_complete(mat):\n",
    "        return mat\n",
    "    else :\n",
    "        save=[]\n",
    "        for i in range(len(mat)):\n",
    "            for j in range(len(mat)):\n",
    "                if mat[i][j]!=0 and i != j:\n",
    "                    for k in range(len(mat)):\n",
    "                        if mat[j][k]!=0 and j != k and i != k:\n",
    "                            station= get_key(j)\n",
    "                            #way=djikstra(i,k,j,mat, place)\n",
    "                            dist= mat[i][j][1]+mat[j][k][1]\n",
    "                            string=mat[i][j][0]+\" -> \"+station+\" , \"+mat[j][k][0]\n",
    "                            save.append([i,k,(string,dist)])\n",
    "        for j in range(len(save)):\n",
    "            i=save[j][0]\n",
    "            k=save[j][1]\n",
    "            if(mat[i][k]==0) or (mat[i][k][1] > save[j][2][1]):\n",
    "                mat[i][k]=(save[j][2])\n",
    "        return Make_transitive(mat, place)\n",
    "me = Make_transitive(matOD, place)\n",
    "print(me)"
   ]
  },
  {
   "cell_type": "code",
   "execution_count": 8,
   "id": "604a7574",
   "metadata": {},
   "outputs": [],
   "source": [
    "people={\n",
    "    'massilva':'Gare de Belfort',\n",
    "    'mandy':'Gare de Belfort',\n",
    "    'aftab':'Gare de Montbeliard',\n",
    "    'oualid': 'Gare de Montbeliard'\n",
    "}"
   ]
  },
  {
   "cell_type": "code",
   "execution_count": 24,
   "id": "e336c7f8",
   "metadata": {},
   "outputs": [],
   "source": [
    "def most_frequent(List):\n",
    "    return max(set(List), key = List.count)\n",
    " \n",
    "def find_the_optimal_sol(people, place, mat):\n",
    "    mindist=10000\n",
    "    maxdist=0\n",
    "    for i in people:\n",
    "        resultset = [value for key, value in people.items() if key != i]\n",
    "        dist_to_other=[mat[place[people[i]]][place[resultset[j]]] for j in range(len(resultset))]\n",
    "        for j in range(len(dist_to_other)):\n",
    "            if(dist_to_other[j]!=0):\n",
    "                if(dist_to_other[j][1]>maxdist):\n",
    "                    maxdist=dist_to_other[j][1]\n",
    "                if(dist_to_other[j][1]< mindist):\n",
    "                    mindist=dist_to_other[j][1]\n",
    "            else :\n",
    "                 mindist=dist_to_other[j]\n",
    "\n",
    "    optimal_dist=int((mindist+maxdist)/2)+5\n",
    "    li=[]\n",
    "    print('the maximum time',optimal_dist)\n",
    "    for i in people:\n",
    "        temp=mat[place[people[i]]]\n",
    "        find_in_int=[[i,temp[i][1]] for i in range(len(temp)) if (temp[i]!=0 and temp[i][1]<= optimal_dist ) ] \n",
    "        find_in_int2=[[i,0] for i in range(len(temp)) if (temp[i] == 0) ] \n",
    "        li.extend(find_in_int2)\n",
    "        li.extend(find_in_int)\n",
    "    print(li)\n",
    "    return  get_key(most_frequent(li))"
   ]
  },
  {
   "cell_type": "code",
   "execution_count": 25,
   "id": "3fe99468",
   "metadata": {},
   "outputs": [
    {
     "name": "stdout",
     "output_type": "stream",
     "text": [
      "the maximum time 12\n",
      "meeting place is : CROUS Duvillard\n"
     ]
    }
   ],
   "source": [
    "dist=find_the_optimal_sol(people, place, me)\n",
    "print('meeting place is :',dist)"
   ]
  },
  {
   "cell_type": "code",
   "execution_count": 11,
   "id": "df674520",
   "metadata": {},
   "outputs": [],
   "source": [
    "def itenerary_for_each(people, place, mat, dist):\n",
    "    for i in people:\n",
    "        way= mat[place[people[i]]][place[dist]]\n",
    "        if way==0 :\n",
    "            path=i+\"\\nis in \"+ people[i] + \": right in the meeting place  \\n\" \n",
    "        else : \n",
    "            path=i+\"\\nis in \"+ people[i] + \" the best path to \"+dist+\" would be : \\n\"+ way[0] +\" -> \"+ dist +\"\\n ------- Time to arrive estimated to be \"+ str(way[1]) + \" minutes \\n\" \n",
    "        print(path)"
   ]
  },
  {
   "cell_type": "code",
   "execution_count": 12,
   "id": "e6a43275",
   "metadata": {
    "scrolled": false
   },
   "outputs": [
    {
     "name": "stdout",
     "output_type": "stream",
     "text": [
      "massilva\n",
      "is in Gare de Belfort the best path to IUT would be : \n",
      "BUS 3 -> IUT\n",
      " ------- Time to arrive estimated to be 10 minutes \n",
      "\n",
      "mandy\n",
      "is in Gare de Belfort the best path to IUT would be : \n",
      "BUS 3 -> IUT\n",
      " ------- Time to arrive estimated to be 10 minutes \n",
      "\n",
      "aftab\n",
      "is in Gare de Montbeliard the best path to IUT would be : \n",
      "TER -> Gare de Belfort , BUS 3 -> IUT\n",
      " ------- Time to arrive estimated to be 25 minutes \n",
      "\n",
      "oualid\n",
      "is in Gare de Montbeliard the best path to IUT would be : \n",
      "TER -> Gare de Belfort , BUS 3 -> IUT\n",
      " ------- Time to arrive estimated to be 25 minutes \n",
      "\n"
     ]
    }
   ],
   "source": [
    "itenerary_for_each(people, place, me, dist)"
   ]
  },
  {
   "cell_type": "code",
   "execution_count": null,
   "id": "d827ed04",
   "metadata": {},
   "outputs": [],
   "source": []
  }
 ],
 "metadata": {
  "kernelspec": {
   "display_name": "Python 3.10.1 64-bit",
   "language": "python",
   "name": "python3"
  },
  "language_info": {
   "codemirror_mode": {
    "name": "ipython",
    "version": 3
   },
   "file_extension": ".py",
   "mimetype": "text/x-python",
   "name": "python",
   "nbconvert_exporter": "python",
   "pygments_lexer": "ipython3",
   "version": "3.10.1"
  },
  "vscode": {
   "interpreter": {
    "hash": "26de051ba29f2982a8de78e945f0abaf191376122a1563185a90213a26c5da77"
   }
  }
 },
 "nbformat": 4,
 "nbformat_minor": 5
}
