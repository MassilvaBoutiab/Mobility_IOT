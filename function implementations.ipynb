{
 "cells": [
  {
   "cell_type": "markdown",
   "id": "f16d7ac9",
   "metadata": {},
   "source": [
    "first of all i need to defin the graph of mobility that was asked :\n",
    "i used only my possible itenarary  from home to class C02\n",
    "\n",
    "0 Crous\n",
    "\n",
    "1 IUT bus station\n",
    "\n",
    "2 Train station of Belfort\n",
    "\n",
    "3 Train station of montbeliard\n",
    "\n",
    "4 Campus bus station\n",
    "\n",
    "5 C02 building C class\n",
    "\n"
   ]
  },
  {
   "cell_type": "code",
   "execution_count": 1,
   "id": "92ceb653",
   "metadata": {},
   "outputs": [],
   "source": [
    "def get_key(val):\n",
    "    for key, value in place.items():\n",
    "        if val == value:\n",
    "            return key\n",
    "    return \"None\""
   ]
  },
  {
   "cell_type": "code",
   "execution_count": 2,
   "id": "218d9f29",
   "metadata": {},
   "outputs": [],
   "source": [
    "def check_complete(mat):\n",
    "    for i in range(len(mat)):\n",
    "        for j in range(len(mat)):\n",
    "            if i!=j and mat[i][j]==0 :\n",
    "                print(\"False\")\n",
    "                return False\n",
    "    print(\"True\")\n",
    "\n",
    "    return True"
   ]
  },
  {
   "cell_type": "code",
   "execution_count": 3,
   "id": "d0c863ab",
   "metadata": {},
   "outputs": [],
   "source": [
    "def Make_transitive(mat, place):\n",
    "    if check_complete(mat):\n",
    "        return mat\n",
    "    else :\n",
    "        save=[]\n",
    "        for i in range(len(mat)):\n",
    "            for j in range(len(mat)):\n",
    "                if mat[i][j]!=0 and i != j:\n",
    "                    for k in range(len(mat)):\n",
    "                        if mat[j][k]!=0 and j != k and i != k:\n",
    "                            station= get_key(j)\n",
    "                            dist= mat[i][j][1]+mat[j][k][1]\n",
    "                            save.append([i,k,(mat[j][k][0],dist)])\n",
    "        for j in range(len(save)):\n",
    "            i=save[j][0]\n",
    "            k=save[j][1]\n",
    "            if(mat[i][k]==0):\n",
    "                mat[i][k]=(save[j][2])\n",
    "                mat[i][k]=(save[j][2])\n",
    "        return Make_transitive(mat, place)\n",
    "    "
   ]
  },
  {
   "cell_type": "code",
   "execution_count": 4,
   "id": "a7e36ad3",
   "metadata": {},
   "outputs": [],
   "source": [
    "data = [['CROUS Duvillard','IUT', ('walk', 5)],['IUT','Gare de Belfort', ('BUS 3', 10)],\n",
    "        ['Gare de Belfort','Gare de Montbeliard', ('TER', 15)],\n",
    "        ['Gare de Montbeliard','Campus', ('BUS T1', 15)],\n",
    "        ['Campus','UFR STGI Building C', ('Walk', 3)],\n",
    "        ['UFR STGI Building C','C01', ('Walk', 1)],\n",
    "        ['C01','C02', ('Walk', 1)],['Gare de Belfort','Gare de Montbeliard', ('Bus X', 20)],\n",
    "        ['CROUS Duvillard','Parking UFR', ('car', 20)], ['Parking UFR','Campus', ('walk', 2)]]"
   ]
  },
  {
   "cell_type": "code",
   "execution_count": 5,
   "id": "08475c10",
   "metadata": {},
   "outputs": [
    {
     "data": {
      "text/plain": [
       "[['CROUS Duvillard', 'IUT', ('walk', 5)],\n",
       " ['IUT', 'Gare de Belfort', ('BUS 3', 10)],\n",
       " ['Gare de Belfort', 'Gare de Montbeliard', ('TER', 15)],\n",
       " ['Gare de Montbeliard', 'Campus', ('BUS T1', 15)],\n",
       " ['Campus', 'UFR STGI Building C', ('Walk', 3)],\n",
       " ['UFR STGI Building C', 'C01', ('Walk', 1)],\n",
       " ['C01', 'C02', ('Walk', 1)],\n",
       " ['Gare de Belfort', 'Gare de Montbeliard', ('Bus X', 20)],\n",
       " ['CROUS Duvillard', 'Parking UFR', ('car', 20)],\n",
       " ['Parking UFR', 'Campus', ('walk', 2)]]"
      ]
     },
     "execution_count": 5,
     "metadata": {},
     "output_type": "execute_result"
    }
   ],
   "source": [
    "data"
   ]
  },
  {
   "cell_type": "code",
   "execution_count": 6,
   "id": "17341d5d",
   "metadata": {},
   "outputs": [],
   "source": [
    "place = {'CROUS Duvillard':0,\n",
    "         'IUT': 1, \n",
    "         'Gare de Belfort':2 , \n",
    "         'Gare de Montbeliard':3 , \n",
    "         'Campus':4 ,\n",
    "         'UFR STGI Building C':5,\n",
    "         'C01':6,\n",
    "         'C02':7,\n",
    "         'Parking UFR':8\n",
    "        }"
   ]
  },
  {
   "cell_type": "code",
   "execution_count": 7,
   "id": "4835f8f5",
   "metadata": {},
   "outputs": [
    {
     "name": "stdout",
     "output_type": "stream",
     "text": [
      "[[0, ('walk', 5), 0, 0, 0, 0, 0, 0, ('car', 20)], [('walk', 5), 0, ('BUS 3', 10), 0, 0, 0, 0, 0, 0], [0, ('BUS 3', 10), 0, ('TER', 15), 0, 0, 0, 0, 0], [0, 0, ('TER', 15), 0, ('BUS T1', 15), 0, 0, 0, 0], [0, 0, 0, ('BUS T1', 15), 0, ('Walk', 3), 0, 0, ('walk', 2)], [0, 0, 0, 0, ('Walk', 3), 0, ('Walk', 1), 0, 0], [0, 0, 0, 0, 0, ('Walk', 1), 0, ('Walk', 1), 0], [0, 0, 0, 0, 0, 0, ('Walk', 1), 0, 0], [('car', 20), 0, 0, 0, ('walk', 2), 0, 0, 0, 0]]\n"
     ]
    }
   ],
   "source": [
    "def build_MatrixOD(place, data):\n",
    "    mxod=[]\n",
    "    for i in range(len(place)):\n",
    "        array = [0 for i in range(len(place))] \n",
    "        mxod.append(array)\n",
    "    for i in data:\n",
    "        origin=place[i[0]]\n",
    "        dest=place[i[1]]\n",
    "        if ( mxod[origin][dest] == 0):\n",
    "            mxod[origin][dest]=i[2]\n",
    "            mxod[dest][origin]=i[2]\n",
    "        elif(mxod[origin][dest][1] > i[2][1]):\n",
    "            mxod[origin][dest]=i[2]\n",
    "            mxod[dest][origin]=i[2]\n",
    "    \n",
    "    return mxod\n",
    "matOD=build_MatrixOD(place, data)\n",
    "print(matOD)\n"
   ]
  },
  {
   "cell_type": "code",
   "execution_count": 8,
   "id": "00f0e0d2",
   "metadata": {},
   "outputs": [
    {
     "name": "stdout",
     "output_type": "stream",
     "text": [
      "False\n",
      "False\n",
      "False\n",
      "True\n"
     ]
    },
    {
     "data": {
      "text/plain": [
       "[[0,\n",
       "  ('walk', 5),\n",
       "  ('BUS 3', 15),\n",
       "  ('TER', 30),\n",
       "  ('walk', 22),\n",
       "  ('Walk', 25),\n",
       "  ('Walk', 26),\n",
       "  ('Walk', 50),\n",
       "  ('car', 20)],\n",
       " [('walk', 5),\n",
       "  0,\n",
       "  ('BUS 3', 10),\n",
       "  ('TER', 25),\n",
       "  ('walk', 27),\n",
       "  ('Walk', 43),\n",
       "  ('Walk', 31),\n",
       "  ('Walk', 45),\n",
       "  ('car', 25)],\n",
       " [('walk', 15),\n",
       "  ('BUS 3', 10),\n",
       "  0,\n",
       "  ('TER', 15),\n",
       "  ('BUS T1', 30),\n",
       "  ('Walk', 33),\n",
       "  ('Walk', 34),\n",
       "  ('Walk', 35),\n",
       "  ('car', 35)],\n",
       " [('walk', 30),\n",
       "  ('BUS 3', 25),\n",
       "  ('TER', 15),\n",
       "  0,\n",
       "  ('BUS T1', 15),\n",
       "  ('Walk', 18),\n",
       "  ('Walk', 19),\n",
       "  ('Walk', 20),\n",
       "  ('walk', 17)],\n",
       " [('car', 22),\n",
       "  ('walk', 27),\n",
       "  ('TER', 30),\n",
       "  ('BUS T1', 15),\n",
       "  0,\n",
       "  ('Walk', 3),\n",
       "  ('Walk', 4),\n",
       "  ('Walk', 5),\n",
       "  ('walk', 2)],\n",
       " [('car', 25),\n",
       "  ('BUS 3', 43),\n",
       "  ('TER', 33),\n",
       "  ('BUS T1', 18),\n",
       "  ('Walk', 3),\n",
       "  0,\n",
       "  ('Walk', 1),\n",
       "  ('Walk', 2),\n",
       "  ('walk', 5)],\n",
       " [('car', 26),\n",
       "  ('walk', 31),\n",
       "  ('TER', 34),\n",
       "  ('BUS T1', 19),\n",
       "  ('Walk', 4),\n",
       "  ('Walk', 1),\n",
       "  0,\n",
       "  ('Walk', 1),\n",
       "  ('walk', 6)],\n",
       " [('walk', 50),\n",
       "  ('BUS 3', 45),\n",
       "  ('TER', 35),\n",
       "  ('BUS T1', 20),\n",
       "  ('Walk', 5),\n",
       "  ('Walk', 2),\n",
       "  ('Walk', 1),\n",
       "  0,\n",
       "  ('walk', 7)],\n",
       " [('car', 20),\n",
       "  ('walk', 25),\n",
       "  ('BUS 3', 35),\n",
       "  ('BUS T1', 17),\n",
       "  ('walk', 2),\n",
       "  ('Walk', 5),\n",
       "  ('Walk', 6),\n",
       "  ('Walk', 7),\n",
       "  0]]"
      ]
     },
     "execution_count": 8,
     "metadata": {},
     "output_type": "execute_result"
    }
   ],
   "source": [
    "me = Make_transitive(matOD, place)\n",
    "me"
   ]
  },
  {
   "cell_type": "code",
   "execution_count": 9,
   "id": "604a7574",
   "metadata": {},
   "outputs": [],
   "source": [
    "people={\n",
    "    'massilva':'Campus',\n",
    "    'mandy':'IUT',\n",
    "    'aftab':'C02',\n",
    "    'oualid': 'UFR STGI Building C'\n",
    "}"
   ]
  },
  {
   "cell_type": "code",
   "execution_count": 10,
   "id": "e336c7f8",
   "metadata": {},
   "outputs": [],
   "source": [
    "def most_frequent(List):\n",
    "    return max(set(List), key = List.count)\n",
    " \n",
    "def find_the_optimal_sol(people, place, mat):\n",
    "    mindist=10000\n",
    "    maxdist=0\n",
    "    for i in people:\n",
    "        resultset = [value for key, value in people.items() if key != i]\n",
    "        dist_to_other=[mat[place[people[i]]][place[resultset[j]]] for j in range(len(resultset))]\n",
    "        for j in range(len(dist_to_other)):\n",
    "            if(dist_to_other[j]!=0):\n",
    "                if(dist_to_other[j][1]>maxdist):\n",
    "                    maxdist=dist_to_other[j][1]\n",
    "                if(dist_to_other[j][1]< mindist):\n",
    "                    mindist=dist_to_other[j][1]\n",
    "    optimal_dist=(int((mindist+maxdist)/2)-5,int((mindist+maxdist)/2)+5)\n",
    "    li=[]\n",
    "    print(optimal_dist)\n",
    "    for i in people:\n",
    "        temp=mat[place[people[i]]]\n",
    "        print(i)\n",
    "        find_in_int=[i for i in range(len(temp)) if temp[i]!=0 and temp[i][1] >= optimal_dist[0] and temp[i][1]<= optimal_dist[1] ]\n",
    "        print(find_in_int)\n",
    "        li.extend(find_in_int)\n",
    "    print(li)\n",
    "    return  get_key(most_frequent(li))"
   ]
  },
  {
   "cell_type": "code",
   "execution_count": 11,
   "id": "3fe99468",
   "metadata": {},
   "outputs": [
    {
     "name": "stdout",
     "output_type": "stream",
     "text": [
      "(18, 28)\n",
      "massilva\n",
      "[0, 1]\n",
      "mandy\n",
      "[3, 4, 8]\n",
      "aftab\n",
      "[3]\n",
      "oualid\n",
      "[0, 3]\n",
      "[0, 1, 3, 4, 8, 3, 0, 3]\n",
      "('BUS T1', 15)\n",
      "('TER', 25)\n",
      "('BUS T1', 20)\n",
      "('BUS T1', 18)\n"
     ]
    },
    {
     "data": {
      "text/plain": [
       "'Gare de Montbeliard'"
      ]
     },
     "execution_count": 11,
     "metadata": {},
     "output_type": "execute_result"
    }
   ],
   "source": [
    "dist=find_the_optimal_sol(people, place, me)\n",
    "for i in people:\n",
    "    print(me[place[people[i]]][place[dist]])\n",
    "dist"
   ]
  },
  {
   "cell_type": "code",
   "execution_count": 28,
   "id": "df674520",
   "metadata": {},
   "outputs": [],
   "source": [
    "### here is the third function but doesn't work well because i eed to implement like jikstra method\n",
    "def itenerary_for_each(people, place, mat, dist):\n",
    "    distination=place[dist]\n",
    "    ways=[]\n",
    "    for i in people:\n",
    "        ind=place[people[i]]\n",
    "        way=[]\n",
    "        old_ind=100000\n",
    "        while ind != distination:\n",
    "            minind=100000\n",
    "            for i in range(len(mat[ind])):\n",
    "                if mat[ind][i]!= 0 and mat[ind][i][1]<=minind:\n",
    "                    minind= mat[ind][i][1]\n",
    "                    ind=i\n",
    "            print(ind)\n",
    "            old_ind=ind\n",
    "        print ('the way ', i ,' has to take from', people[i] ,'is :', way)\n",
    "            "
   ]
  },
  {
   "cell_type": "code",
   "execution_count": null,
   "id": "e6a43275",
   "metadata": {},
   "outputs": [],
   "source": []
  },
  {
   "cell_type": "code",
   "execution_count": null,
   "id": "09c6152b",
   "metadata": {},
   "outputs": [],
   "source": []
  }
 ],
 "metadata": {
  "kernelspec": {
   "display_name": "Python 3 (ipykernel)",
   "language": "python",
   "name": "python3"
  },
  "language_info": {
   "codemirror_mode": {
    "name": "ipython",
    "version": 3
   },
   "file_extension": ".py",
   "mimetype": "text/x-python",
   "name": "python",
   "nbconvert_exporter": "python",
   "pygments_lexer": "ipython3",
   "version": "3.9.7"
  }
 },
 "nbformat": 4,
 "nbformat_minor": 5
}
